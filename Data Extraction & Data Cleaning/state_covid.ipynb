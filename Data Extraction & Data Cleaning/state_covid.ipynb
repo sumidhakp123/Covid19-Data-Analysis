{
  "cells": [
    {
      "cell_type": "code",
      "execution_count": 1,
      "metadata": {
        "id": "pKhbI7ETDDDc"
      },
      "outputs": [],
      "source": [
        "import pandas as pd\n",
        "import requests\n",
        "import json\n",
        "import csv"
      ]
    },
    {
      "cell_type": "code",
      "execution_count": 2,
      "metadata": {},
      "outputs": [],
      "source": [
        "\n",
        "state_data_url = \"https://data.covid19india.org/v4/min/data.min.json\"\n",
        "\n",
        "# Fetch the JSON data\n",
        "response = requests.get(state_data_url)\n",
        "state = response.json()\n",
        "\n",
        "# Create lists to store the data\n",
        "data = []\n",
        "\n",
        "# Iterate through the JSON structure\n",
        "for state_code, state_data in state.items():\n",
        "    # Extract state-level data\n",
        "    state_delta = state_data.get('delta', {})\n",
        "    state_delta7 = state_data.get('delta7', {})\n",
        "    state_total = state_data.get('total', {})\n",
        "    state_meta = state_data.get('meta', {})\n",
        "    state_last_updated = state_meta.get('last_updated', '')\n",
        "    state_population = state_meta.get('population', 0)  # Fix population handling\n",
        "    state_notes = state_meta.get('notes', '')\n",
        "    state_tested = state_meta.get('tested', {})\n",
        "\n",
        "    row = {\n",
        "        \"StateCode\": state_code,\n",
        "        \"StateDeltaConfirmed\": state_delta.get('confirmed', 0),\n",
        "        \"StateDeltaDeceased\": state_delta.get('deceased', 0),\n",
        "        \"StateDeltaRecovered\": state_delta.get('recovered', 0),\n",
        "        \"StateDeltaVaccinated1\": state_delta.get('vaccinated1', 0),\n",
        "        \"StateDeltaVaccinated2\": state_delta.get('vaccinated2', 0),\n",
        "        \"StateDelta7Confirmed\": state_delta7.get('confirmed', 0),\n",
        "        \"StateDelta7Deceased\": state_delta7.get('deceased', 0),\n",
        "        \"StateDelta7Recovered\": state_delta7.get('recovered', 0),\n",
        "        \"StateDelta7Vaccinated1\": state_delta7.get('vaccinated1', 0),\n",
        "        \"StateDelta7Vaccinated2\": state_delta7.get('vaccinated2', 0),\n",
        "        \"StateTotalConfirmed\": state_total.get('confirmed', 0),\n",
        "        \"StateTotalDeceased\": state_total.get('deceased', 0),\n",
        "        \"StateTotalRecovered\": state_total.get('recovered', 0),\n",
        "        \"StateTotalTested\": state_total.get('tested', 0),\n",
        "        \"StateTotalVaccinated1\": state_total.get('vaccinated1', 0),\n",
        "        \"StateTotalVaccinated2\": state_total.get('vaccinated2', 0),\n",
        "        \"StateLastUpdated\": state_last_updated,\n",
        "        \"StatePopulation\": state_population,\n",
        "        \"StateNotes\": state_notes,\n",
        "        \"StateTestedSource\": state_tested.get('source', ''),\n",
        "        \"StateTestedLastUpdated\": state_tested.get('last_updated', ''),\n",
        "    }\n",
        "\n",
        "    data.append(row)\n",
        "\n",
        "\n",
        "# Create a DataFrame\n",
        "state_covid_data = pd.DataFrame(data)\n",
        "\n",
        "# Save the DataFrame as a CSV file\n",
        "state_covid_data.to_csv(\"state_covid_data.csv\", index=False)"
      ]
    },
    {
      "cell_type": "code",
      "execution_count": 4,
      "metadata": {
        "colab": {
          "base_uri": "https://localhost:8080/",
          "height": 464
        },
        "id": "SROxoAMsDDAy",
        "outputId": "8623f1f5-6e6e-4a9f-c9db-7d42464066d4"
      },
      "outputs": [
        {
          "data": {
            "text/html": [
              "<div>\n",
              "<style scoped>\n",
              "    .dataframe tbody tr th:only-of-type {\n",
              "        vertical-align: middle;\n",
              "    }\n",
              "\n",
              "    .dataframe tbody tr th {\n",
              "        vertical-align: top;\n",
              "    }\n",
              "\n",
              "    .dataframe thead th {\n",
              "        text-align: right;\n",
              "    }\n",
              "</style>\n",
              "<table border=\"1\" class=\"dataframe\">\n",
              "  <thead>\n",
              "    <tr style=\"text-align: right;\">\n",
              "      <th></th>\n",
              "      <th>StateCode</th>\n",
              "      <th>StateDeltaConfirmed</th>\n",
              "      <th>StateDeltaDeceased</th>\n",
              "      <th>StateDeltaRecovered</th>\n",
              "      <th>StateDeltaVaccinated1</th>\n",
              "      <th>StateDeltaVaccinated2</th>\n",
              "      <th>StateDelta7Confirmed</th>\n",
              "      <th>StateDelta7Deceased</th>\n",
              "      <th>StateDelta7Recovered</th>\n",
              "      <th>StateDelta7Vaccinated1</th>\n",
              "      <th>...</th>\n",
              "      <th>StateTotalDeceased</th>\n",
              "      <th>StateTotalRecovered</th>\n",
              "      <th>StateTotalTested</th>\n",
              "      <th>StateTotalVaccinated1</th>\n",
              "      <th>StateTotalVaccinated2</th>\n",
              "      <th>StateLastUpdated</th>\n",
              "      <th>StatePopulation</th>\n",
              "      <th>StateNotes</th>\n",
              "      <th>StateTestedSource</th>\n",
              "      <th>StateTestedLastUpdated</th>\n",
              "    </tr>\n",
              "  </thead>\n",
              "  <tbody>\n",
              "    <tr>\n",
              "      <th>0</th>\n",
              "      <td>AN</td>\n",
              "      <td>0</td>\n",
              "      <td>0</td>\n",
              "      <td>0</td>\n",
              "      <td>3</td>\n",
              "      <td>13</td>\n",
              "      <td>3</td>\n",
              "      <td>0</td>\n",
              "      <td>5</td>\n",
              "      <td>884</td>\n",
              "      <td>...</td>\n",
              "      <td>129</td>\n",
              "      <td>7518</td>\n",
              "      <td>598033</td>\n",
              "      <td>294001</td>\n",
              "      <td>200157</td>\n",
              "      <td>2021-11-01T11:03:10+05:30</td>\n",
              "      <td>397000</td>\n",
              "      <td></td>\n",
              "      <td>https://dhs.andaman.gov.in/NewEvents/851.pdf</td>\n",
              "      <td></td>\n",
              "    </tr>\n",
              "    <tr>\n",
              "      <th>1</th>\n",
              "      <td>AP</td>\n",
              "      <td>385</td>\n",
              "      <td>4</td>\n",
              "      <td>675</td>\n",
              "      <td>20497</td>\n",
              "      <td>24137</td>\n",
              "      <td>2873</td>\n",
              "      <td>30</td>\n",
              "      <td>3590</td>\n",
              "      <td>1223010</td>\n",
              "      <td>...</td>\n",
              "      <td>14373</td>\n",
              "      <td>2047722</td>\n",
              "      <td>29518787</td>\n",
              "      <td>32976969</td>\n",
              "      <td>20375181</td>\n",
              "      <td>2021-11-01T09:54:14+05:30</td>\n",
              "      <td>52221000</td>\n",
              "      <td></td>\n",
              "      <td>https://twitter.com/ArogyaAndhra/status/145474...</td>\n",
              "      <td></td>\n",
              "    </tr>\n",
              "  </tbody>\n",
              "</table>\n",
              "<p>2 rows × 22 columns</p>\n",
              "</div>"
            ],
            "text/plain": [
              "  StateCode  StateDeltaConfirmed  StateDeltaDeceased  StateDeltaRecovered  \\\n",
              "0        AN                    0                   0                    0   \n",
              "1        AP                  385                   4                  675   \n",
              "\n",
              "   StateDeltaVaccinated1  StateDeltaVaccinated2  StateDelta7Confirmed  \\\n",
              "0                      3                     13                     3   \n",
              "1                  20497                  24137                  2873   \n",
              "\n",
              "   StateDelta7Deceased  StateDelta7Recovered  StateDelta7Vaccinated1  ...  \\\n",
              "0                    0                     5                     884  ...   \n",
              "1                   30                  3590                 1223010  ...   \n",
              "\n",
              "   StateTotalDeceased  StateTotalRecovered  StateTotalTested  \\\n",
              "0                 129                 7518            598033   \n",
              "1               14373              2047722          29518787   \n",
              "\n",
              "   StateTotalVaccinated1  StateTotalVaccinated2           StateLastUpdated  \\\n",
              "0                 294001                 200157  2021-11-01T11:03:10+05:30   \n",
              "1               32976969               20375181  2021-11-01T09:54:14+05:30   \n",
              "\n",
              "   StatePopulation StateNotes  \\\n",
              "0           397000              \n",
              "1         52221000              \n",
              "\n",
              "                                   StateTestedSource StateTestedLastUpdated  \n",
              "0       https://dhs.andaman.gov.in/NewEvents/851.pdf                         \n",
              "1  https://twitter.com/ArogyaAndhra/status/145474...                         \n",
              "\n",
              "[2 rows x 22 columns]"
            ]
          },
          "execution_count": 4,
          "metadata": {},
          "output_type": "execute_result"
        }
      ],
      "source": [
        "state_covid_data.head(2)"
      ]
    },
    {
      "cell_type": "code",
      "execution_count": 5,
      "metadata": {
        "colab": {
          "base_uri": "https://localhost:8080/"
        },
        "id": "TyBeLxmTZ4E6",
        "outputId": "1b3dcc6b-40da-48cf-eea6-9314bb6159b0"
      },
      "outputs": [
        {
          "data": {
            "text/plain": [
              "StateCode                 0\n",
              "StateDeltaConfirmed       0\n",
              "StateDeltaDeceased        0\n",
              "StateDeltaRecovered       0\n",
              "StateDeltaVaccinated1     0\n",
              "StateDeltaVaccinated2     0\n",
              "StateDelta7Confirmed      0\n",
              "StateDelta7Deceased       0\n",
              "StateDelta7Recovered      0\n",
              "StateDelta7Vaccinated1    0\n",
              "StateDelta7Vaccinated2    0\n",
              "StateTotalConfirmed       0\n",
              "StateTotalDeceased        0\n",
              "StateTotalRecovered       0\n",
              "StateTotalTested          0\n",
              "StateTotalVaccinated1     0\n",
              "StateTotalVaccinated2     0\n",
              "StateLastUpdated          0\n",
              "StatePopulation           0\n",
              "StateNotes                0\n",
              "StateTestedSource         0\n",
              "StateTestedLastUpdated    0\n",
              "dtype: int64"
            ]
          },
          "execution_count": 5,
          "metadata": {},
          "output_type": "execute_result"
        }
      ],
      "source": [
        "state_covid_data.isnull().sum()"
      ]
    },
    {
      "cell_type": "code",
      "execution_count": 6,
      "metadata": {
        "colab": {
          "base_uri": "https://localhost:8080/"
        },
        "id": "npc8sPFkZ9Ld",
        "outputId": "d17e82ae-5ca5-486f-f3af-1aad91b2a328"
      },
      "outputs": [
        {
          "data": {
            "text/plain": [
              "0"
            ]
          },
          "execution_count": 6,
          "metadata": {},
          "output_type": "execute_result"
        }
      ],
      "source": [
        "state_covid_data.duplicated().sum()"
      ]
    },
    {
      "cell_type": "code",
      "execution_count": 7,
      "metadata": {
        "colab": {
          "base_uri": "https://localhost:8080/"
        },
        "id": "LXHpCCuyDC-q",
        "outputId": "018a3ded-f5a9-4992-b4cc-554e5db31189"
      },
      "outputs": [
        {
          "name": "stdout",
          "output_type": "stream",
          "text": [
            "<class 'pandas.core.frame.DataFrame'>\n",
            "RangeIndex: 37 entries, 0 to 36\n",
            "Data columns (total 22 columns):\n",
            " #   Column                  Non-Null Count  Dtype \n",
            "---  ------                  --------------  ----- \n",
            " 0   StateCode               37 non-null     object\n",
            " 1   StateDeltaConfirmed     37 non-null     int64 \n",
            " 2   StateDeltaDeceased      37 non-null     int64 \n",
            " 3   StateDeltaRecovered     37 non-null     int64 \n",
            " 4   StateDeltaVaccinated1   37 non-null     int64 \n",
            " 5   StateDeltaVaccinated2   37 non-null     int64 \n",
            " 6   StateDelta7Confirmed    37 non-null     int64 \n",
            " 7   StateDelta7Deceased     37 non-null     int64 \n",
            " 8   StateDelta7Recovered    37 non-null     int64 \n",
            " 9   StateDelta7Vaccinated1  37 non-null     int64 \n",
            " 10  StateDelta7Vaccinated2  37 non-null     int64 \n",
            " 11  StateTotalConfirmed     37 non-null     int64 \n",
            " 12  StateTotalDeceased      37 non-null     int64 \n",
            " 13  StateTotalRecovered     37 non-null     int64 \n",
            " 14  StateTotalTested        37 non-null     int64 \n",
            " 15  StateTotalVaccinated1   37 non-null     int64 \n",
            " 16  StateTotalVaccinated2   37 non-null     int64 \n",
            " 17  StateLastUpdated        37 non-null     object\n",
            " 18  StatePopulation         37 non-null     int64 \n",
            " 19  StateNotes              37 non-null     object\n",
            " 20  StateTestedSource       37 non-null     object\n",
            " 21  StateTestedLastUpdated  37 non-null     object\n",
            "dtypes: int64(17), object(5)\n",
            "memory usage: 6.5+ KB\n"
          ]
        }
      ],
      "source": [
        "state_covid_data.info()"
      ]
    },
    {
      "cell_type": "code",
      "execution_count": 8,
      "metadata": {
        "colab": {
          "base_uri": "https://localhost:8080/"
        },
        "id": "CNu70zE1DC7w",
        "outputId": "81976f54-12ec-475c-c0c3-0b51269894b8"
      },
      "outputs": [
        {
          "name": "stdout",
          "output_type": "stream",
          "text": [
            "StateCode\n",
            "['AN' 'AP' 'AR' 'AS' 'BR' 'CH' 'CT' 'DL' 'DN' 'GA' 'GJ' 'HP' 'HR' 'JH'\n",
            " 'JK' 'KA' 'KL' 'LA' 'LD' 'MH' 'ML' 'MN' 'MP' 'MZ' 'NL' 'OR' 'PB' 'PY'\n",
            " 'RJ' 'SK' 'TG' 'TN' 'TR' 'TT' 'UP' 'UT' 'WB']\n",
            "\n",
            "StateDeltaConfirmed\n",
            "[    0   385     1   212     8     5    32    45    23    20    85    11\n",
            "    10    95   292  7167  1172    22    63    16   579   488    26    38\n",
            "     2    21   121  1009    12 12907     6   914]\n",
            "\n",
            "StateDeltaDeceased\n",
            "[  0   4   1  11 167  20   2  19 251  15]\n",
            "\n",
            "StateDeltaRecovered\n",
            "[    0   675     9   236     3    32    46     1    53    23   198    10\n",
            "     8    79   345  6439  1399    51    62   610    21   450    25    45\n",
            "     2   183  1183 13152     6   913]\n",
            "\n",
            "StateDeltaVaccinated1\n",
            "[     3  20497     42  19124 114694    211  21312  12482   2572  14685\n",
            "    371   7867  41034   1584  17604   2010      0  53161     38    705\n",
            "   5713     10    193  21420   3321    171   9399  38781  77325 750410\n",
            "  53401   1065 209609]\n",
            "\n",
            "StateDeltaVaccinated2\n",
            "[    13  24137    195  37463 145827   1282  39393  11839     20  12404\n",
            "  62096   8192  15801  51488  45202  28163  11914      2      4  31988\n",
            "    203   4283  77062     51    822  25651   4418    532  29672      0\n",
            "  26738 106584    650 933460  57556  12934  58881]\n",
            "\n",
            "StateDelta7Confirmed\n",
            "[    3  2873    66  2056    40    28   205   267     0   222   159  1537\n",
            "    95   137   611  2347 53326    58  8117   256   439   105  4098   130\n",
            "  3046   192   278    27    79  1189  7407    87 96071    63    75  6453]\n",
            "\n",
            "StateDelta7Deceased\n",
            "[   0   30   24    5    6    2   20    3   75 3089  200    4   10    1\n",
            "   21    8    9   97 3727   86]\n",
            "\n",
            "StateDelta7Recovered\n",
            "[     5   3590     97   2215     31     20    103    239      2    409\n",
            "    116   1154     87    250    572   2339  48406     28      0  15146\n",
            "    460    652     74   5685    144   3230    162    315     26     76\n",
            "   1121   8852     62 101753     58   5953]\n",
            "\n",
            "StateDelta7Vaccinated1\n",
            "[     884  1223010     3312   274869  1286708     3680   379374   160323\n",
            "     2802     8418   335172    13244   160777   299587    33383   623591\n",
            "   109805      525       69  1611778     7871     7665   148817     4302\n",
            "     4706   731837   200182     8324   271500      782  1072389   788134\n",
            "     4155 15883780  2266921    25250  3809597]\n",
            "\n",
            "StateDelta7Vaccinated2\n",
            "[   10640  1887005    23647   849889  2144970    21641   604260   269146\n",
            "    14244    46494  1660382   234011   368141   428313   414843  1373861\n",
            "   792534     1532      796  1282938    41927    71276  2034460    11262\n",
            "    23628   917236   223256    20073   864947    14044   961422  1578082\n",
            "    74642 24527530  3130828   258381  1871612]\n",
            "\n",
            "StateTotalConfirmed\n",
            "[    7651  2066450    55155   610645   726098    65351  1006052  1439870\n",
            "    10681   178108   826577   224106   771252   348764   332249  2988333\n",
            "  4968657    20962    10365  6611078    83627   123731   792854   121359\n",
            "    31842  1041457   602401   128013   954429    31979   671463  2702623\n",
            "    84468 34285612  1710158   343896  1592908]\n",
            "\n",
            "StateTotalDeceased\n",
            "[   129  14373    280   5997   9661    820  13577  25091      4   3364\n",
            "  10089   3738  10049   5138   4432  38082  31681    208     51 140216\n",
            "   1450   1921  10524    432    685   8386  16559   1857   8954    396\n",
            "   3956  36116    813 458470  22900   7400  19141]\n",
            "\n",
            "StateTotalRecovered\n",
            "[    7518  2047722    54774   600974   716390    64495   992159  1414431\n",
            "    10644   174392   816283   218410   761068   343518   326915  2941578\n",
            "  4857181    20687    10270  6450585    81746   121102   782215   114612\n",
            "    29904  1029147   585591   125726   945443    31063   663498  2655015\n",
            "    83466 33661339  1687151   330195  1565471]\n",
            "\n",
            "StateTotalTested\n",
            "[   598033  29518787   1185436  24712042  50531824    792851  13709510\n",
            "  29427753     72410   1468399  30928063   3685011  13032504  15985878\n",
            "  16202346  50873103  37886378    555568    263541  62667211   1151665\n",
            "   1367673  20294225   1298444    395416  21994343  15429415   1919060\n",
            "  14807752    261343  27569831  51159242   1983127 609201294  83635222\n",
            "   7781148  19228303]\n",
            "\n",
            "StateTotalVaccinated1\n",
            "[   294001  32976969    771875  20172463  49874828    926035  14851682\n",
            "  13055636    660753   1262568  44735217   5713695  17772376  14986646\n",
            "   9511073  42497761  25306499    208798     55129  67198794   1103275\n",
            "   1249436  49911938    711597    709553  25736641  15942714    733922\n",
            "  42544909    521763  22498559  41279432   2508477 732371508  98178865\n",
            "   7478017  56192166]\n",
            "\n",
            "StateTotalVaccinated2\n",
            "[   200157  20375181    534486   8068795  18346781    546981   7343273\n",
            "   7425404    370255    911114  25972387   3443823   8115463   5585648\n",
            "   5149471  22858384  13658343    152280     45951  30975692    641819\n",
            "    719413  20838045    512029    490663  11560912   6238973    404355\n",
            "  20097635    451509   9772398  17619141   1621329 330752697  32681895\n",
            "   3898342  21559747]\n",
            "\n",
            "StateLastUpdated\n",
            "['2021-11-01T11:03:10+05:30' '2021-11-01T09:54:14+05:30'\n",
            " '2021-11-01T11:20:24+05:30' '2021-10-31T20:49:45+05:30']\n",
            "\n",
            "StatePopulation\n",
            "[    397000   52221000    1504000   34293000  119520000    1179000\n",
            "   28724000   19814000     959000    1540000   67936000    7300000\n",
            "   28672000   37403000   13203000   65798000   35125000     293000\n",
            "      68000  122153000    3224000    3103000   82232000    1192000\n",
            "    2150000   43671000   29859000   77264000     664000   37220000\n",
            "   75695000    3992000 1332900000  224979000   11141000   96906000]\n",
            "\n",
            "StateNotes\n",
            "[''\n",
            " '[July 25]: All numbers corresponding to Papum Pare and Captial Complex are tracked under Papum Pare district.'\n",
            " \"[Jan 1]: 1347 cases i.e Covid +'tive patients dead for other reasons have been deducted fom active count.\"\n",
            " '[June 9] : 3951 deceased cases have been reported in the bulletin after reconciliation of records by the authorities'\n",
            " '[July 14]: Value for the total tests conducted has been reduced by 97008 in the state bulletin. Reason given : \"Reconciled with ICMR figures\". We have made the same change.'\n",
            " \"[Dec 16]:10,218 duplicate cases & other state cases removed from total cases.791 recovered cases also removed from total recovered cases while reconciling \\n[Sep 9] :239 cases have been removed from the hospitalized figures owing to the removal of duplicates and change of addresses as per the original residence\\n[Aug 15] : MH bulletin has reduced 819 confirmed cases in Mumbai and 72 confirmed cases from 'Other States' from the tally\\n[Jun 16] : 1328 deceased cases have been retroactively added to MH bulletin.\\n[Jun 20] : 69 deceased cases have been reduced based on state bulletin.\\n[Sep 9 2021]: 15066 positive cases and 15793 discharged cases have been reduced from state total based on reconciliation (as mentioned in the bulletin)\"\n",
            " '[Dec 14]:824 out of 980 recovered cases are backdated.'\n",
            " \"[14 Oct'20]: 4469 confirmed cases and 4469 recoveries added in MP bulletin as reconciliation with private labs and hospitals\\n[12 July'21] :1478 deceased cases have been added after reconciliation of deceased cases records from Home Isolation(208), Private Hospitals(762) and other districts data (508)\"\n",
            " '[July 12th] :20 non-covid deaths reported in state dashboard are included in the deceased count'\n",
            " '[July 27] : Telangana bulletin for the previous day is released on the next day. We will add the cases for Telangana against the date of release, as that is the convention that we are following for other states.'\n",
            " '[June 29 2021]: TN has introduced a new district \"Mayiladuthurai\" in the bulletin and has assigned cases from Nagapattinam to the new district.\\n[July 22]: 444 backdated deceased entries added to Chennai in TN bulletin.\\n2 deaths cross notified to other states from Chennai and Coimbatore.\\n1 patient died after turning negative for infection in Chengalpattu.\\nThese cases have been added to TN deceased tally'\n",
            " '[Aug 4]: Tripura bulletin for the previous day is released on the next day. We will add the cases for Tripura against the date of release, as that is the convention that we are following for other states.'\n",
            " \"[Jan 1]:As no bulletin was provided for 31'st Dec'20,its count has been combined with 1st Jan'21\\n[Jan 9]:Due to reconcillation there are 1286 cases.\"\n",
            " '[Oct 30]: Metric of capturing the testing data has switched to \"Samples Tested\" from \"Samples Collected\"\\n[Jun 30th\\'21]:145 confirmed cases and 218 deceased cases added of previous days after reconciliation with district and ICMR portal']\n",
            "\n",
            "StateTestedSource\n",
            "['https://dhs.andaman.gov.in/NewEvents/851.pdf'\n",
            " 'https://twitter.com/ArogyaAndhra/status/1454748197272711177'\n",
            " 'https://twitter.com/DirHealth_ArPr/status/1454823191751233544?s=20'\n",
            " 'https://twitter.com/nhm_assam/status/1454837285032103940?s=20'\n",
            " 'https://twitter.com/BiharHealthDept/status/1454805874447290369?s=20'\n",
            " 'https://t.me/Covid19india_Auxiliary_Test_Data/11877'\n",
            " 'https://twitter.com/HealthCgGov/status/1454835690198298624?s=20'\n",
            " 'https://t.me/Covid19india_Auxiliary_Test_Data/11885'\n",
            " 'https://dddcovid19.in/uploads/report/BulletinDNHDD20102020.pdf'\n",
            " 'https://www.goa.gov.in/wp-content/uploads/2021/10/Media-Bulletin-31st-October-2021.pdf'\n",
            " 'https://t.me/Covid19india_Auxiliary_Test_Data/11879'\n",
            " 'https://twitter.com/nhm_hp/status/1454810267364200449?s=20'\n",
            " 'http://www.nhmharyana.gov.in/WriteReadData/userfiles/file/CoronaVirus/Daily%20Bulletin%20of%20COVID%2019%20as%20on%2031-10-2021.pdf'\n",
            " 'https://t.me/Covid19india_Auxiliary_Test_Data/11884'\n",
            " 'https://twitter.com/diprjk/status/1454804735307894787?s=20'\n",
            " 'https://t.co/pjWOnWUs3q?amp=1'\n",
            " 'https://dhs.kerala.gov.in/wp-content/uploads/2021/10/Bulletin-HFWD-English-October-31.pdf'\n",
            " 'https://twitter.com/prasarbharti/status/1454872140436541444'\n",
            " 'https://t.me/Covid19india_Auxiliary_Test_Data/11888'\n",
            " 'https://twitter.com/PIBMumbai/status/1454819081123598345'\n",
            " 'https://t.me/Covid19india_Auxiliary_Test_Data/11881'\n",
            " 'https://nrhmmanipur.org/?p=8037'\n",
            " 'https://twitter.com/healthminmp/status/1454818706534514697'\n",
            " 'https://dipr.mizoram.gov.in/post/covid-19-positive-thar-579-hmuhchhuah-a-ni'\n",
            " 'https://twitter.com/MyGovNagaland/status/1454788808122138641'\n",
            " 'https://t.me/Covid19india_Auxiliary_Test_Data/11880'\n",
            " 'https://t.me/Covid19india_Auxiliary_Test_Data/11874'\n",
            " 'https://t.me/Covid19india_Auxiliary_Test_Data/11866'\n",
            " 'https://t.me/Covid19india_Auxiliary_Test_Data/11883'\n",
            " 'https://t.me/Covid19india_Auxiliary_Test_Data/11867'\n",
            " 'https://twitter.com/IPRTelangana/status/1454809941366083585'\n",
            " 'https://t.me/Covid19india_Auxiliary_Test_Data/11882'\n",
            " 'https://t.me/Covid19india_Auxiliary_Test_Data/11868'\n",
            " 'https://twitter.com/ICMRDELHI/status/1455013648355577862?s=20'\n",
            " 'https://twitter.com/ShishirGoUP/status/1454716134503055360'\n",
            " 'https://t.me/Covid19india_Auxiliary_Test_Data/11870'\n",
            " 'https://www.wbhealth.gov.in/uploaded_files/corona/WB_DHFW_Bulletin_31ST_OCT_REPORT_FINAL.pdf']\n",
            "\n",
            "StateTestedLastUpdated\n",
            "['']\n",
            "\n"
          ]
        }
      ],
      "source": [
        "# for checking unique values\n",
        "for i in state_covid_data:\n",
        "  print(i)\n",
        "  print(state_covid_data[i].unique())\n",
        "  print()"
      ]
    },
    {
      "cell_type": "code",
      "execution_count": 9,
      "metadata": {
        "colab": {
          "base_uri": "https://localhost:8080/"
        },
        "id": "S5enUsXFDC41",
        "outputId": "00500643-f9dd-41ca-a6c4-960c57b1dc43"
      },
      "outputs": [
        {
          "data": {
            "text/plain": [
              "1"
            ]
          },
          "execution_count": 9,
          "metadata": {},
          "output_type": "execute_result"
        }
      ],
      "source": [
        "state_covid_data.StateTestedLastUpdated.nunique()"
      ]
    },
    {
      "cell_type": "code",
      "execution_count": 10,
      "metadata": {
        "id": "t3t9dydoM9SF"
      },
      "outputs": [],
      "source": [
        "# as above StateTestedLastUpdated has only one unique value , so droping that column"
      ]
    },
    {
      "cell_type": "code",
      "execution_count": 11,
      "metadata": {
        "id": "4w9hBEeZDC1q"
      },
      "outputs": [],
      "source": [
        "state_covid_data.drop('StateTestedLastUpdated',axis = 1,inplace = True)"
      ]
    },
    {
      "cell_type": "code",
      "execution_count": 12,
      "metadata": {
        "colab": {
          "base_uri": "https://localhost:8080/"
        },
        "id": "djyAtU-sTNp1",
        "outputId": "41ca6045-cd3c-4c45-b014-c0728fd3080c"
      },
      "outputs": [
        {
          "data": {
            "text/plain": [
              "Index(['StateCode', 'StateDeltaConfirmed', 'StateDeltaDeceased',\n",
              "       'StateDeltaRecovered', 'StateDeltaVaccinated1', 'StateDeltaVaccinated2',\n",
              "       'StateDelta7Confirmed', 'StateDelta7Deceased', 'StateDelta7Recovered',\n",
              "       'StateDelta7Vaccinated1', 'StateDelta7Vaccinated2',\n",
              "       'StateTotalConfirmed', 'StateTotalDeceased', 'StateTotalRecovered',\n",
              "       'StateTotalTested', 'StateTotalVaccinated1', 'StateTotalVaccinated2',\n",
              "       'StateLastUpdated', 'StatePopulation', 'StateNotes',\n",
              "       'StateTestedSource'],\n",
              "      dtype='object')"
            ]
          },
          "execution_count": 12,
          "metadata": {},
          "output_type": "execute_result"
        }
      ],
      "source": [
        "state_covid_data.columns"
      ]
    },
    {
      "cell_type": "code",
      "execution_count": 13,
      "metadata": {
        "colab": {
          "base_uri": "https://localhost:8080/",
          "height": 147
        },
        "id": "DVJvN5vITNn0",
        "outputId": "7ce3acee-b3d8-42d0-d6ac-7d1fc2f49610"
      },
      "outputs": [
        {
          "data": {
            "text/html": [
              "<div>\n",
              "<style scoped>\n",
              "    .dataframe tbody tr th:only-of-type {\n",
              "        vertical-align: middle;\n",
              "    }\n",
              "\n",
              "    .dataframe tbody tr th {\n",
              "        vertical-align: top;\n",
              "    }\n",
              "\n",
              "    .dataframe thead th {\n",
              "        text-align: right;\n",
              "    }\n",
              "</style>\n",
              "<table border=\"1\" class=\"dataframe\">\n",
              "  <thead>\n",
              "    <tr style=\"text-align: right;\">\n",
              "      <th></th>\n",
              "      <th>StateCode</th>\n",
              "      <th>StateDeltaConfirmed</th>\n",
              "      <th>StateDeltaDeceased</th>\n",
              "      <th>StateDeltaRecovered</th>\n",
              "      <th>StateDeltaVaccinated1</th>\n",
              "      <th>StateDeltaVaccinated2</th>\n",
              "      <th>StateDelta7Confirmed</th>\n",
              "      <th>StateDelta7Deceased</th>\n",
              "      <th>StateDelta7Recovered</th>\n",
              "      <th>StateDelta7Vaccinated1</th>\n",
              "      <th>...</th>\n",
              "      <th>StateTotalConfirmed</th>\n",
              "      <th>StateTotalDeceased</th>\n",
              "      <th>StateTotalRecovered</th>\n",
              "      <th>StateTotalTested</th>\n",
              "      <th>StateTotalVaccinated1</th>\n",
              "      <th>StateTotalVaccinated2</th>\n",
              "      <th>StateLastUpdated</th>\n",
              "      <th>StatePopulation</th>\n",
              "      <th>StateNotes</th>\n",
              "      <th>StateTestedSource</th>\n",
              "    </tr>\n",
              "  </thead>\n",
              "  <tbody>\n",
              "    <tr>\n",
              "      <th>33</th>\n",
              "      <td>TT</td>\n",
              "      <td>12907</td>\n",
              "      <td>251</td>\n",
              "      <td>13152</td>\n",
              "      <td>750410</td>\n",
              "      <td>933460</td>\n",
              "      <td>96071</td>\n",
              "      <td>3727</td>\n",
              "      <td>101753</td>\n",
              "      <td>15883780</td>\n",
              "      <td>...</td>\n",
              "      <td>34285612</td>\n",
              "      <td>458470</td>\n",
              "      <td>33661339</td>\n",
              "      <td>609201294</td>\n",
              "      <td>732371508</td>\n",
              "      <td>330752697</td>\n",
              "      <td>2021-11-01T11:20:24+05:30</td>\n",
              "      <td>1332900000</td>\n",
              "      <td></td>\n",
              "      <td>https://twitter.com/ICMRDELHI/status/145501364...</td>\n",
              "    </tr>\n",
              "  </tbody>\n",
              "</table>\n",
              "<p>1 rows × 21 columns</p>\n",
              "</div>"
            ],
            "text/plain": [
              "   StateCode  StateDeltaConfirmed  StateDeltaDeceased  StateDeltaRecovered  \\\n",
              "33        TT                12907                 251                13152   \n",
              "\n",
              "    StateDeltaVaccinated1  StateDeltaVaccinated2  StateDelta7Confirmed  \\\n",
              "33                 750410                 933460                 96071   \n",
              "\n",
              "    StateDelta7Deceased  StateDelta7Recovered  StateDelta7Vaccinated1  ...  \\\n",
              "33                 3727                101753                15883780  ...   \n",
              "\n",
              "    StateTotalConfirmed  StateTotalDeceased  StateTotalRecovered  \\\n",
              "33             34285612              458470             33661339   \n",
              "\n",
              "    StateTotalTested  StateTotalVaccinated1  StateTotalVaccinated2  \\\n",
              "33         609201294              732371508              330752697   \n",
              "\n",
              "             StateLastUpdated StatePopulation  StateNotes  \\\n",
              "33  2021-11-01T11:20:24+05:30      1332900000               \n",
              "\n",
              "                                    StateTestedSource  \n",
              "33  https://twitter.com/ICMRDELHI/status/145501364...  \n",
              "\n",
              "[1 rows x 21 columns]"
            ]
          },
          "execution_count": 13,
          "metadata": {},
          "output_type": "execute_result"
        }
      ],
      "source": [
        "state_covid_data[state_covid_data['StateCode']=='TT']"
      ]
    },
    {
      "cell_type": "code",
      "execution_count": 14,
      "metadata": {
        "id": "G7lQztLxTNmj"
      },
      "outputs": [],
      "source": [
        "#as per observation in unique value , we can see some outlier present in the data and they all belongs to STATECODE 'TT' row.\n",
        "# dropping row of statecode 'TT' .\n"
      ]
    },
    {
      "cell_type": "code",
      "execution_count": 15,
      "metadata": {
        "id": "yllfrUF5TNlF"
      },
      "outputs": [],
      "source": [
        "state_covid_data.drop(33,axis=0,inplace=True)"
      ]
    },
    {
      "cell_type": "code",
      "execution_count": 16,
      "metadata": {
        "colab": {
          "base_uri": "https://localhost:8080/",
          "height": 99
        },
        "id": "-eHjGDfsTNdj",
        "outputId": "d095e101-1b0d-4d2f-b678-f35ce3904890"
      },
      "outputs": [
        {
          "data": {
            "text/html": [
              "<div>\n",
              "<style scoped>\n",
              "    .dataframe tbody tr th:only-of-type {\n",
              "        vertical-align: middle;\n",
              "    }\n",
              "\n",
              "    .dataframe tbody tr th {\n",
              "        vertical-align: top;\n",
              "    }\n",
              "\n",
              "    .dataframe thead th {\n",
              "        text-align: right;\n",
              "    }\n",
              "</style>\n",
              "<table border=\"1\" class=\"dataframe\">\n",
              "  <thead>\n",
              "    <tr style=\"text-align: right;\">\n",
              "      <th></th>\n",
              "      <th>StateCode</th>\n",
              "      <th>StateDeltaConfirmed</th>\n",
              "      <th>StateDeltaDeceased</th>\n",
              "      <th>StateDeltaRecovered</th>\n",
              "      <th>StateDeltaVaccinated1</th>\n",
              "      <th>StateDeltaVaccinated2</th>\n",
              "      <th>StateDelta7Confirmed</th>\n",
              "      <th>StateDelta7Deceased</th>\n",
              "      <th>StateDelta7Recovered</th>\n",
              "      <th>StateDelta7Vaccinated1</th>\n",
              "      <th>...</th>\n",
              "      <th>StateTotalConfirmed</th>\n",
              "      <th>StateTotalDeceased</th>\n",
              "      <th>StateTotalRecovered</th>\n",
              "      <th>StateTotalTested</th>\n",
              "      <th>StateTotalVaccinated1</th>\n",
              "      <th>StateTotalVaccinated2</th>\n",
              "      <th>StateLastUpdated</th>\n",
              "      <th>StatePopulation</th>\n",
              "      <th>StateNotes</th>\n",
              "      <th>StateTestedSource</th>\n",
              "    </tr>\n",
              "  </thead>\n",
              "  <tbody>\n",
              "  </tbody>\n",
              "</table>\n",
              "<p>0 rows × 21 columns</p>\n",
              "</div>"
            ],
            "text/plain": [
              "Empty DataFrame\n",
              "Columns: [StateCode, StateDeltaConfirmed, StateDeltaDeceased, StateDeltaRecovered, StateDeltaVaccinated1, StateDeltaVaccinated2, StateDelta7Confirmed, StateDelta7Deceased, StateDelta7Recovered, StateDelta7Vaccinated1, StateDelta7Vaccinated2, StateTotalConfirmed, StateTotalDeceased, StateTotalRecovered, StateTotalTested, StateTotalVaccinated1, StateTotalVaccinated2, StateLastUpdated, StatePopulation, StateNotes, StateTestedSource]\n",
              "Index: []\n",
              "\n",
              "[0 rows x 21 columns]"
            ]
          },
          "execution_count": 16,
          "metadata": {},
          "output_type": "execute_result"
        }
      ],
      "source": [
        "state_covid_data[state_covid_data['StateCode']=='TT']"
      ]
    },
    {
      "cell_type": "code",
      "execution_count": 17,
      "metadata": {
        "colab": {
          "base_uri": "https://localhost:8080/"
        },
        "id": "qfA5X4I3YgoY",
        "outputId": "4ff7ae72-f0f1-494a-ab2c-e0be6dc4e8d2"
      },
      "outputs": [
        {
          "data": {
            "text/plain": [
              "36"
            ]
          },
          "execution_count": 17,
          "metadata": {},
          "output_type": "execute_result"
        }
      ],
      "source": [
        "state_covid_data['StateCode'].nunique()"
      ]
    },
    {
      "cell_type": "code",
      "execution_count": 18,
      "metadata": {
        "colab": {
          "base_uri": "https://localhost:8080/"
        },
        "id": "4wRLP3QbiZSv",
        "outputId": "7504735b-e0bf-4473-a2ff-fa2026a3e712"
      },
      "outputs": [
        {
          "name": "stdout",
          "output_type": "stream",
          "text": [
            "StateCode\n",
            "['AN' 'AP' 'AR' 'AS' 'BR' 'CH' 'CT' 'DL' 'DN' 'GA' 'GJ' 'HP' 'HR' 'JH'\n",
            " 'JK' 'KA' 'KL' 'LA' 'LD' 'MH' 'ML' 'MN' 'MP' 'MZ' 'NL' 'OR' 'PB' 'PY'\n",
            " 'RJ' 'SK' 'TG' 'TN' 'TR' 'UP' 'UT' 'WB']\n",
            "\n",
            "StateDeltaConfirmed\n",
            "[   0  385    1  212    8    5   32   45   23   20   85   11   10   95\n",
            "  292 7167 1172   22   63   16  579  488   26   38    2   21  121 1009\n",
            "   12    6  914]\n",
            "\n",
            "StateDeltaDeceased\n",
            "[  0   4   1  11 167  20   2  19  15]\n",
            "\n",
            "StateDeltaRecovered\n",
            "[   0  675    9  236    3   32   46    1   53   23  198   10    8   79\n",
            "  345 6439 1399   51   62  610   21  450   25   45    2  183 1183    6\n",
            "  913]\n",
            "\n",
            "StateDeltaVaccinated1\n",
            "[     3  20497     42  19124 114694    211  21312  12482   2572  14685\n",
            "    371   7867  41034   1584  17604   2010      0  53161     38    705\n",
            "   5713     10    193  21420   3321    171   9399  38781  77325  53401\n",
            "   1065 209609]\n",
            "\n",
            "StateDeltaVaccinated2\n",
            "[    13  24137    195  37463 145827   1282  39393  11839     20  12404\n",
            "  62096   8192  15801  51488  45202  28163  11914      2      4  31988\n",
            "    203   4283  77062     51    822  25651   4418    532  29672      0\n",
            "  26738 106584    650  57556  12934  58881]\n",
            "\n",
            "StateDelta7Confirmed\n",
            "[    3  2873    66  2056    40    28   205   267     0   222   159  1537\n",
            "    95   137   611  2347 53326    58  8117   256   439   105  4098   130\n",
            "  3046   192   278    27    79  1189  7407    87    63    75  6453]\n",
            "\n",
            "StateDelta7Deceased\n",
            "[   0   30   24    5    6    2   20    3   75 3089  200    4   10    1\n",
            "   21    8    9   97   86]\n",
            "\n",
            "StateDelta7Recovered\n",
            "[    5  3590    97  2215    31    20   103   239     2   409   116  1154\n",
            "    87   250   572  2339 48406    28     0 15146   460   652    74  5685\n",
            "   144  3230   162   315    26    76  1121  8852    62    58  5953]\n",
            "\n",
            "StateDelta7Vaccinated1\n",
            "[    884 1223010    3312  274869 1286708    3680  379374  160323    2802\n",
            "    8418  335172   13244  160777  299587   33383  623591  109805     525\n",
            "      69 1611778    7871    7665  148817    4302    4706  731837  200182\n",
            "    8324  271500     782 1072389  788134    4155 2266921   25250 3809597]\n",
            "\n",
            "StateDelta7Vaccinated2\n",
            "[  10640 1887005   23647  849889 2144970   21641  604260  269146   14244\n",
            "   46494 1660382  234011  368141  428313  414843 1373861  792534    1532\n",
            "     796 1282938   41927   71276 2034460   11262   23628  917236  223256\n",
            "   20073  864947   14044  961422 1578082   74642 3130828  258381 1871612]\n",
            "\n",
            "StateTotalConfirmed\n",
            "[   7651 2066450   55155  610645  726098   65351 1006052 1439870   10681\n",
            "  178108  826577  224106  771252  348764  332249 2988333 4968657   20962\n",
            "   10365 6611078   83627  123731  792854  121359   31842 1041457  602401\n",
            "  128013  954429   31979  671463 2702623   84468 1710158  343896 1592908]\n",
            "\n",
            "StateTotalDeceased\n",
            "[   129  14373    280   5997   9661    820  13577  25091      4   3364\n",
            "  10089   3738  10049   5138   4432  38082  31681    208     51 140216\n",
            "   1450   1921  10524    432    685   8386  16559   1857   8954    396\n",
            "   3956  36116    813  22900   7400  19141]\n",
            "\n",
            "StateTotalRecovered\n",
            "[   7518 2047722   54774  600974  716390   64495  992159 1414431   10644\n",
            "  174392  816283  218410  761068  343518  326915 2941578 4857181   20687\n",
            "   10270 6450585   81746  121102  782215  114612   29904 1029147  585591\n",
            "  125726  945443   31063  663498 2655015   83466 1687151  330195 1565471]\n",
            "\n",
            "StateTotalTested\n",
            "[  598033 29518787  1185436 24712042 50531824   792851 13709510 29427753\n",
            "    72410  1468399 30928063  3685011 13032504 15985878 16202346 50873103\n",
            " 37886378   555568   263541 62667211  1151665  1367673 20294225  1298444\n",
            "   395416 21994343 15429415  1919060 14807752   261343 27569831 51159242\n",
            "  1983127 83635222  7781148 19228303]\n",
            "\n",
            "StateTotalVaccinated1\n",
            "[  294001 32976969   771875 20172463 49874828   926035 14851682 13055636\n",
            "   660753  1262568 44735217  5713695 17772376 14986646  9511073 42497761\n",
            " 25306499   208798    55129 67198794  1103275  1249436 49911938   711597\n",
            "   709553 25736641 15942714   733922 42544909   521763 22498559 41279432\n",
            "  2508477 98178865  7478017 56192166]\n",
            "\n",
            "StateTotalVaccinated2\n",
            "[  200157 20375181   534486  8068795 18346781   546981  7343273  7425404\n",
            "   370255   911114 25972387  3443823  8115463  5585648  5149471 22858384\n",
            " 13658343   152280    45951 30975692   641819   719413 20838045   512029\n",
            "   490663 11560912  6238973   404355 20097635   451509  9772398 17619141\n",
            "  1621329 32681895  3898342 21559747]\n",
            "\n",
            "StateLastUpdated\n",
            "['2021-11-01T11:03:10+05:30' '2021-11-01T09:54:14+05:30'\n",
            " '2021-11-01T11:20:24+05:30' '2021-10-31T20:49:45+05:30']\n",
            "\n",
            "StatePopulation\n",
            "[   397000  52221000   1504000  34293000 119520000   1179000  28724000\n",
            "  19814000    959000   1540000  67936000   7300000  28672000  37403000\n",
            "  13203000  65798000  35125000    293000     68000 122153000   3224000\n",
            "   3103000  82232000   1192000   2150000  43671000  29859000  77264000\n",
            "    664000  37220000  75695000   3992000 224979000  11141000  96906000]\n",
            "\n",
            "StateNotes\n",
            "[''\n",
            " '[July 25]: All numbers corresponding to Papum Pare and Captial Complex are tracked under Papum Pare district.'\n",
            " \"[Jan 1]: 1347 cases i.e Covid +'tive patients dead for other reasons have been deducted fom active count.\"\n",
            " '[June 9] : 3951 deceased cases have been reported in the bulletin after reconciliation of records by the authorities'\n",
            " '[July 14]: Value for the total tests conducted has been reduced by 97008 in the state bulletin. Reason given : \"Reconciled with ICMR figures\". We have made the same change.'\n",
            " \"[Dec 16]:10,218 duplicate cases & other state cases removed from total cases.791 recovered cases also removed from total recovered cases while reconciling \\n[Sep 9] :239 cases have been removed from the hospitalized figures owing to the removal of duplicates and change of addresses as per the original residence\\n[Aug 15] : MH bulletin has reduced 819 confirmed cases in Mumbai and 72 confirmed cases from 'Other States' from the tally\\n[Jun 16] : 1328 deceased cases have been retroactively added to MH bulletin.\\n[Jun 20] : 69 deceased cases have been reduced based on state bulletin.\\n[Sep 9 2021]: 15066 positive cases and 15793 discharged cases have been reduced from state total based on reconciliation (as mentioned in the bulletin)\"\n",
            " '[Dec 14]:824 out of 980 recovered cases are backdated.'\n",
            " \"[14 Oct'20]: 4469 confirmed cases and 4469 recoveries added in MP bulletin as reconciliation with private labs and hospitals\\n[12 July'21] :1478 deceased cases have been added after reconciliation of deceased cases records from Home Isolation(208), Private Hospitals(762) and other districts data (508)\"\n",
            " '[July 12th] :20 non-covid deaths reported in state dashboard are included in the deceased count'\n",
            " '[July 27] : Telangana bulletin for the previous day is released on the next day. We will add the cases for Telangana against the date of release, as that is the convention that we are following for other states.'\n",
            " '[June 29 2021]: TN has introduced a new district \"Mayiladuthurai\" in the bulletin and has assigned cases from Nagapattinam to the new district.\\n[July 22]: 444 backdated deceased entries added to Chennai in TN bulletin.\\n2 deaths cross notified to other states from Chennai and Coimbatore.\\n1 patient died after turning negative for infection in Chengalpattu.\\nThese cases have been added to TN deceased tally'\n",
            " '[Aug 4]: Tripura bulletin for the previous day is released on the next day. We will add the cases for Tripura against the date of release, as that is the convention that we are following for other states.'\n",
            " \"[Jan 1]:As no bulletin was provided for 31'st Dec'20,its count has been combined with 1st Jan'21\\n[Jan 9]:Due to reconcillation there are 1286 cases.\"\n",
            " '[Oct 30]: Metric of capturing the testing data has switched to \"Samples Tested\" from \"Samples Collected\"\\n[Jun 30th\\'21]:145 confirmed cases and 218 deceased cases added of previous days after reconciliation with district and ICMR portal']\n",
            "\n",
            "StateTestedSource\n",
            "['https://dhs.andaman.gov.in/NewEvents/851.pdf'\n",
            " 'https://twitter.com/ArogyaAndhra/status/1454748197272711177'\n",
            " 'https://twitter.com/DirHealth_ArPr/status/1454823191751233544?s=20'\n",
            " 'https://twitter.com/nhm_assam/status/1454837285032103940?s=20'\n",
            " 'https://twitter.com/BiharHealthDept/status/1454805874447290369?s=20'\n",
            " 'https://t.me/Covid19india_Auxiliary_Test_Data/11877'\n",
            " 'https://twitter.com/HealthCgGov/status/1454835690198298624?s=20'\n",
            " 'https://t.me/Covid19india_Auxiliary_Test_Data/11885'\n",
            " 'https://dddcovid19.in/uploads/report/BulletinDNHDD20102020.pdf'\n",
            " 'https://www.goa.gov.in/wp-content/uploads/2021/10/Media-Bulletin-31st-October-2021.pdf'\n",
            " 'https://t.me/Covid19india_Auxiliary_Test_Data/11879'\n",
            " 'https://twitter.com/nhm_hp/status/1454810267364200449?s=20'\n",
            " 'http://www.nhmharyana.gov.in/WriteReadData/userfiles/file/CoronaVirus/Daily%20Bulletin%20of%20COVID%2019%20as%20on%2031-10-2021.pdf'\n",
            " 'https://t.me/Covid19india_Auxiliary_Test_Data/11884'\n",
            " 'https://twitter.com/diprjk/status/1454804735307894787?s=20'\n",
            " 'https://t.co/pjWOnWUs3q?amp=1'\n",
            " 'https://dhs.kerala.gov.in/wp-content/uploads/2021/10/Bulletin-HFWD-English-October-31.pdf'\n",
            " 'https://twitter.com/prasarbharti/status/1454872140436541444'\n",
            " 'https://t.me/Covid19india_Auxiliary_Test_Data/11888'\n",
            " 'https://twitter.com/PIBMumbai/status/1454819081123598345'\n",
            " 'https://t.me/Covid19india_Auxiliary_Test_Data/11881'\n",
            " 'https://nrhmmanipur.org/?p=8037'\n",
            " 'https://twitter.com/healthminmp/status/1454818706534514697'\n",
            " 'https://dipr.mizoram.gov.in/post/covid-19-positive-thar-579-hmuhchhuah-a-ni'\n",
            " 'https://twitter.com/MyGovNagaland/status/1454788808122138641'\n",
            " 'https://t.me/Covid19india_Auxiliary_Test_Data/11880'\n",
            " 'https://t.me/Covid19india_Auxiliary_Test_Data/11874'\n",
            " 'https://t.me/Covid19india_Auxiliary_Test_Data/11866'\n",
            " 'https://t.me/Covid19india_Auxiliary_Test_Data/11883'\n",
            " 'https://t.me/Covid19india_Auxiliary_Test_Data/11867'\n",
            " 'https://twitter.com/IPRTelangana/status/1454809941366083585'\n",
            " 'https://t.me/Covid19india_Auxiliary_Test_Data/11882'\n",
            " 'https://t.me/Covid19india_Auxiliary_Test_Data/11868'\n",
            " 'https://twitter.com/ShishirGoUP/status/1454716134503055360'\n",
            " 'https://t.me/Covid19india_Auxiliary_Test_Data/11870'\n",
            " 'https://www.wbhealth.gov.in/uploaded_files/corona/WB_DHFW_Bulletin_31ST_OCT_REPORT_FINAL.pdf']\n",
            "\n"
          ]
        }
      ],
      "source": [
        "# again checking unique values after droping row\n",
        "for i in state_covid_data:\n",
        "  print(i)\n",
        "  print(state_covid_data[i].unique())\n",
        "  print()"
      ]
    },
    {
      "cell_type": "code",
      "execution_count": 19,
      "metadata": {
        "id": "UOJtjCnqY-0T"
      },
      "outputs": [],
      "source": [
        "#  as we cant perform aggrigation on below columns and its has some irrelavant information in there columns so ,droping below columns .\n",
        "# 1 StateNotes\n",
        "# 2 StateTestedSource"
      ]
    },
    {
      "cell_type": "code",
      "execution_count": 20,
      "metadata": {
        "id": "J38vNCaEY-iw"
      },
      "outputs": [],
      "source": [
        "state_covid_data.drop('StateNotes',axis = 1,inplace = True)"
      ]
    },
    {
      "cell_type": "code",
      "execution_count": 21,
      "metadata": {
        "id": "7FcxGo8MZcZj"
      },
      "outputs": [],
      "source": [
        "state_covid_data.drop('StateTestedSource',axis = 1,inplace = True)"
      ]
    },
    {
      "cell_type": "code",
      "execution_count": 22,
      "metadata": {
        "colab": {
          "base_uri": "https://localhost:8080/"
        },
        "id": "-UmBMF7XY-Y4",
        "outputId": "bdc0a017-4dc7-4e6d-da85-5b61873b605c"
      },
      "outputs": [
        {
          "data": {
            "text/plain": [
              "Index(['StateCode', 'StateDeltaConfirmed', 'StateDeltaDeceased',\n",
              "       'StateDeltaRecovered', 'StateDeltaVaccinated1', 'StateDeltaVaccinated2',\n",
              "       'StateDelta7Confirmed', 'StateDelta7Deceased', 'StateDelta7Recovered',\n",
              "       'StateDelta7Vaccinated1', 'StateDelta7Vaccinated2',\n",
              "       'StateTotalConfirmed', 'StateTotalDeceased', 'StateTotalRecovered',\n",
              "       'StateTotalTested', 'StateTotalVaccinated1', 'StateTotalVaccinated2',\n",
              "       'StateLastUpdated', 'StatePopulation'],\n",
              "      dtype='object')"
            ]
          },
          "execution_count": 22,
          "metadata": {},
          "output_type": "execute_result"
        }
      ],
      "source": [
        "state_covid_data.columns"
      ]
    },
    {
      "cell_type": "code",
      "execution_count": 23,
      "metadata": {
        "colab": {
          "base_uri": "https://localhost:8080/"
        },
        "id": "8Us6ZQiEZkom",
        "outputId": "ff5e9e2f-bfac-4170-ce76-7015e4ded715"
      },
      "outputs": [
        {
          "data": {
            "text/plain": [
              "(36, 19)"
            ]
          },
          "execution_count": 23,
          "metadata": {},
          "output_type": "execute_result"
        }
      ],
      "source": [
        "state_covid_data.shape"
      ]
    },
    {
      "cell_type": "code",
      "execution_count": 24,
      "metadata": {
        "colab": {
          "base_uri": "https://localhost:8080/"
        },
        "id": "EFv-XypSZvQi",
        "outputId": "7bcac8a9-3726-4c0e-d463-bd06728fbe1c"
      },
      "outputs": [
        {
          "name": "stdout",
          "output_type": "stream",
          "text": [
            "StateCode\n",
            "['AN' 'AP' 'AR' 'AS' 'BR' 'CH' 'CT' 'DL' 'DN' 'GA' 'GJ' 'HP' 'HR' 'JH'\n",
            " 'JK' 'KA' 'KL' 'LA' 'LD' 'MH' 'ML' 'MN' 'MP' 'MZ' 'NL' 'OR' 'PB' 'PY'\n",
            " 'RJ' 'SK' 'TG' 'TN' 'TR' 'UP' 'UT' 'WB']\n",
            "\n",
            "StateDeltaConfirmed\n",
            "[   0  385    1  212    8    5   32   45   23   20   85   11   10   95\n",
            "  292 7167 1172   22   63   16  579  488   26   38    2   21  121 1009\n",
            "   12    6  914]\n",
            "\n",
            "StateDeltaDeceased\n",
            "[  0   4   1  11 167  20   2  19  15]\n",
            "\n",
            "StateDeltaRecovered\n",
            "[   0  675    9  236    3   32   46    1   53   23  198   10    8   79\n",
            "  345 6439 1399   51   62  610   21  450   25   45    2  183 1183    6\n",
            "  913]\n",
            "\n",
            "StateDeltaVaccinated1\n",
            "[     3  20497     42  19124 114694    211  21312  12482   2572  14685\n",
            "    371   7867  41034   1584  17604   2010      0  53161     38    705\n",
            "   5713     10    193  21420   3321    171   9399  38781  77325  53401\n",
            "   1065 209609]\n",
            "\n",
            "StateDeltaVaccinated2\n",
            "[    13  24137    195  37463 145827   1282  39393  11839     20  12404\n",
            "  62096   8192  15801  51488  45202  28163  11914      2      4  31988\n",
            "    203   4283  77062     51    822  25651   4418    532  29672      0\n",
            "  26738 106584    650  57556  12934  58881]\n",
            "\n",
            "StateDelta7Confirmed\n",
            "[    3  2873    66  2056    40    28   205   267     0   222   159  1537\n",
            "    95   137   611  2347 53326    58  8117   256   439   105  4098   130\n",
            "  3046   192   278    27    79  1189  7407    87    63    75  6453]\n",
            "\n",
            "StateDelta7Deceased\n",
            "[   0   30   24    5    6    2   20    3   75 3089  200    4   10    1\n",
            "   21    8    9   97   86]\n",
            "\n",
            "StateDelta7Recovered\n",
            "[    5  3590    97  2215    31    20   103   239     2   409   116  1154\n",
            "    87   250   572  2339 48406    28     0 15146   460   652    74  5685\n",
            "   144  3230   162   315    26    76  1121  8852    62    58  5953]\n",
            "\n",
            "StateDelta7Vaccinated1\n",
            "[    884 1223010    3312  274869 1286708    3680  379374  160323    2802\n",
            "    8418  335172   13244  160777  299587   33383  623591  109805     525\n",
            "      69 1611778    7871    7665  148817    4302    4706  731837  200182\n",
            "    8324  271500     782 1072389  788134    4155 2266921   25250 3809597]\n",
            "\n",
            "StateDelta7Vaccinated2\n",
            "[  10640 1887005   23647  849889 2144970   21641  604260  269146   14244\n",
            "   46494 1660382  234011  368141  428313  414843 1373861  792534    1532\n",
            "     796 1282938   41927   71276 2034460   11262   23628  917236  223256\n",
            "   20073  864947   14044  961422 1578082   74642 3130828  258381 1871612]\n",
            "\n",
            "StateTotalConfirmed\n",
            "[   7651 2066450   55155  610645  726098   65351 1006052 1439870   10681\n",
            "  178108  826577  224106  771252  348764  332249 2988333 4968657   20962\n",
            "   10365 6611078   83627  123731  792854  121359   31842 1041457  602401\n",
            "  128013  954429   31979  671463 2702623   84468 1710158  343896 1592908]\n",
            "\n",
            "StateTotalDeceased\n",
            "[   129  14373    280   5997   9661    820  13577  25091      4   3364\n",
            "  10089   3738  10049   5138   4432  38082  31681    208     51 140216\n",
            "   1450   1921  10524    432    685   8386  16559   1857   8954    396\n",
            "   3956  36116    813  22900   7400  19141]\n",
            "\n",
            "StateTotalRecovered\n",
            "[   7518 2047722   54774  600974  716390   64495  992159 1414431   10644\n",
            "  174392  816283  218410  761068  343518  326915 2941578 4857181   20687\n",
            "   10270 6450585   81746  121102  782215  114612   29904 1029147  585591\n",
            "  125726  945443   31063  663498 2655015   83466 1687151  330195 1565471]\n",
            "\n",
            "StateTotalTested\n",
            "[  598033 29518787  1185436 24712042 50531824   792851 13709510 29427753\n",
            "    72410  1468399 30928063  3685011 13032504 15985878 16202346 50873103\n",
            " 37886378   555568   263541 62667211  1151665  1367673 20294225  1298444\n",
            "   395416 21994343 15429415  1919060 14807752   261343 27569831 51159242\n",
            "  1983127 83635222  7781148 19228303]\n",
            "\n",
            "StateTotalVaccinated1\n",
            "[  294001 32976969   771875 20172463 49874828   926035 14851682 13055636\n",
            "   660753  1262568 44735217  5713695 17772376 14986646  9511073 42497761\n",
            " 25306499   208798    55129 67198794  1103275  1249436 49911938   711597\n",
            "   709553 25736641 15942714   733922 42544909   521763 22498559 41279432\n",
            "  2508477 98178865  7478017 56192166]\n",
            "\n",
            "StateTotalVaccinated2\n",
            "[  200157 20375181   534486  8068795 18346781   546981  7343273  7425404\n",
            "   370255   911114 25972387  3443823  8115463  5585648  5149471 22858384\n",
            " 13658343   152280    45951 30975692   641819   719413 20838045   512029\n",
            "   490663 11560912  6238973   404355 20097635   451509  9772398 17619141\n",
            "  1621329 32681895  3898342 21559747]\n",
            "\n",
            "StateLastUpdated\n",
            "['2021-11-01T11:03:10+05:30' '2021-11-01T09:54:14+05:30'\n",
            " '2021-11-01T11:20:24+05:30' '2021-10-31T20:49:45+05:30']\n",
            "\n",
            "StatePopulation\n",
            "[   397000  52221000   1504000  34293000 119520000   1179000  28724000\n",
            "  19814000    959000   1540000  67936000   7300000  28672000  37403000\n",
            "  13203000  65798000  35125000    293000     68000 122153000   3224000\n",
            "   3103000  82232000   1192000   2150000  43671000  29859000  77264000\n",
            "    664000  37220000  75695000   3992000 224979000  11141000  96906000]\n",
            "\n"
          ]
        }
      ],
      "source": [
        "# for checking  again unique values\n",
        "for i in state_covid_data:\n",
        "  print(i)\n",
        "  print(state_covid_data[i].unique())\n",
        "  print()"
      ]
    }
  ],
  "metadata": {
    "colab": {
      "provenance": []
    },
    "kernelspec": {
      "display_name": "Python 3",
      "name": "python3"
    },
    "language_info": {
      "codemirror_mode": {
        "name": "ipython",
        "version": 3
      },
      "file_extension": ".py",
      "mimetype": "text/x-python",
      "name": "python",
      "nbconvert_exporter": "python",
      "pygments_lexer": "ipython3",
      "version": "3.11.4"
    }
  },
  "nbformat": 4,
  "nbformat_minor": 0
}
